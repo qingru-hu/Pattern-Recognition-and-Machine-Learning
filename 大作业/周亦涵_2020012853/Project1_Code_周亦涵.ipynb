{
 "cells": [
  {
   "attachments": {},
   "cell_type": "markdown",
   "metadata": {},
   "source": [
    "### Problem3\n",
    "Let's use `cvxpy` package to solve this SOCP optimization problem."
   ]
  },
  {
   "cell_type": "code",
   "execution_count": 2,
   "metadata": {},
   "outputs": [],
   "source": [
    "import cvxpy as cp\n",
    "import numpy as np\n",
    "import pandas as pd\n",
    "from sklearn.model_selection import train_test_split\n",
    "import warnings\n",
    "warnings.filterwarnings(\"ignore\")\n",
    "import time"
   ]
  },
  {
   "cell_type": "code",
   "execution_count": 3,
   "metadata": {},
   "outputs": [
    {
     "name": "stdout",
     "output_type": "stream",
     "text": [
      "Dataset loading complete.\n"
     ]
    }
   ],
   "source": [
    "# 处理和定义数据集\n",
    "# Import datasets: breastcancer(bc), pima, sonar\n",
    "data_pima = pd.read_csv(\"diabetes.csv\")\n",
    "data_bc = pd.read_csv(\"breast-cancer-wisconsin.txt\",sep='\\t',header=None)\n",
    "data_sonar = pd.read_csv(\"sonar_csv.csv\")\n",
    "\n",
    "# Data processing\n",
    "data_pima.head() # class: 1/0, the last column named 'Outcome'\n",
    "data_bc.head() # class: 1/0, the last column named '10'\n",
    "data_bc.drop(columns=0,inplace=True)\n",
    "data_sonar.head() # class: not 1/0! The last column named 'Class'\n",
    "set(data_sonar['Class']) # {'Mine', 'Rock'}\n",
    "# Convert 'Mine' to 0, 'Rock' to 1\n",
    "data_sonar['Class'].replace([\"Mine\",\"Rock\"],[0,1],inplace = True)\n",
    "set(data_sonar['Class'])\n",
    "\n",
    "# 删除含非数值元素的行\n",
    "def to_numeric(df):\n",
    "    # print(\"Before deleting:\",df.shape)\n",
    "    for col in df.columns:\n",
    "        if not pd.api.types.is_numeric_dtype(df[col]):\n",
    "            df[col] = pd.to_numeric(df[col], errors='coerce')\n",
    "            df = df.dropna(subset=[col],axis=0)\n",
    "    # print(\"After deleting:\",df.shape)\n",
    "    return df\n",
    "data_bc = to_numeric(data_bc)\n",
    "\n",
    "# 定义字典存放三个数据集\n",
    "datasets = {\n",
    "    \"pima\": data_pima,\n",
    "    \"breast_cancer\": data_bc,\n",
    "    \"sonar\": data_sonar\n",
    "}\n",
    "print(\"Dataset loading complete.\")"
   ]
  },
  {
   "cell_type": "code",
   "execution_count": 4,
   "metadata": {},
   "outputs": [],
   "source": [
    "# Define function to calculate Sigma_p, Sigma_n, mu_p, mu_n\n",
    "def cal_moments(data):\n",
    "    n = data.shape[1] # number of columns\n",
    "    y = data.iloc[:,-1] # define y\n",
    "    X_p = data[y==1].iloc[:,0:n-1] # define X_positive (y==1)\n",
    "    X_n = data[y==0].iloc[:,0:n-1] # define X_negative (y==0)\n",
    "    mu_p = np.mean(X_p,axis=0)\n",
    "    mu_n = np.mean(X_n,axis=0)\n",
    "    Sigma_p = np.cov(X_p, rowvar = False)\n",
    "    Sigma_n = np.cov(X_n, rowvar = False)\n",
    "    return mu_p, mu_n, Sigma_p, Sigma_n"
   ]
  },
  {
   "cell_type": "code",
   "execution_count": 5,
   "metadata": {},
   "outputs": [],
   "source": [
    "# 计算不同X,y对应的w和b\n",
    "def cal_opt(data):\n",
    "    # Define the data\n",
    "    mu_p, mu_n, Sigma_p, Sigma_n = cal_moments(data)\n",
    "    dim = mu_p.shape[0]\n",
    "\n",
    "    # Define the variables\n",
    "    w = cp.Variable(dim)\n",
    "\n",
    "    # Define the objective function\n",
    "    ## 计算协方差阵的1/2\n",
    "    evalue_n, evector_n = np.linalg.eig(Sigma_n)\n",
    "    half_Sigma_n = evector_n @ np.diag(np.sqrt(evalue_n)) @ evector_n.T\n",
    "    evalue_p, evector_p = np.linalg.eig(Sigma_p)\n",
    "    half_Sigma_p = evector_p @ np.diag(np.sqrt(evalue_p)) @ evector_p.T\n",
    "    ## 送入目标函数\n",
    "    goal = cp.norm(half_Sigma_n @w,2)+cp.norm(half_Sigma_p@w,2)\n",
    "\n",
    "    # Define the constraint\n",
    "    soc_constraints = [w @ (mu_p-mu_n) == 1]\n",
    "\n",
    "    # Define the problem\n",
    "    prob = cp.Problem(cp.Minimize(goal),soc_constraints)\n",
    "\n",
    "    # Solve the problem\n",
    "    try:\n",
    "        prob.solve()\n",
    "        # Print the result\n",
    "        w_opt = w.value\n",
    "        b_opt = w_opt@mu_n + np.sqrt(np.dot(w_opt@Sigma_n,w_opt))/(np.sqrt(np.dot(w_opt@Sigma_n,w_opt))+\n",
    "                                                                np.sqrt(np.dot(w_opt@Sigma_p,w_opt)))\n",
    "        # print(\"The optimal w:\",w_opt)\n",
    "        # print(\"The optimal b:\",b_opt)\n",
    "    except Exception as e:\n",
    "        print(e)\n",
    "    return w_opt,b_opt"
   ]
  },
  {
   "cell_type": "code",
   "execution_count": 6,
   "metadata": {},
   "outputs": [],
   "source": [
    "# Define the MPM classifier\n",
    "def MPM(data):\n",
    "    n = data.shape[1] # number of columns\n",
    "    y = data.iloc[:,-1] # define y\n",
    "    X = data.iloc[:,0:n-1] # define X\n",
    "    X_train, X_test, y_train, y_test = train_test_split(X, y, test_size=0.1, stratify=y)\n",
    "\n",
    "    # Use the training data to calculate w and b\n",
    "    data_train = pd.concat([X_train,y_train],axis = 1)\n",
    "    w,b = cal_opt(data_train)\n",
    "\n",
    "    # predict\n",
    "    data_test = pd.concat([X_test,y_test],axis = 1)\n",
    "    i_p = X_test[X_test @ w - b > 0].index\n",
    "    i_n = X_test[X_test @ w - b < 0].index\n",
    "    data_test['pre'] = [0 for i in range(len(X_test))]\n",
    "    data_test['pre'][i_p] = [1 for i in range(len(i_p))] # w^X-b>0的标签定义为1\n",
    "\n",
    "    # calculate the accuracy\n",
    "    acc = sum(data_test['pre'] == y_test)/len(data_test) # 测试集准确率\n",
    "    # print(\"Accuracy:\",acc)\n",
    "\n",
    "    # calculate the error\n",
    "    mu_p, mu_n, Sigma_p, Sigma_n = cal_moments(data_train)\n",
    "    k = 1/(np.sqrt(w @ Sigma_n @ w.T)+np.sqrt(w @ Sigma_p @ w.T))\n",
    "    err = 1/(k**2 + 1)\n",
    "    # print(\"Error:\",err)\n",
    "    return acc, err"
   ]
  },
  {
   "cell_type": "code",
   "execution_count": 7,
   "metadata": {},
   "outputs": [
    {
     "name": "stdout",
     "output_type": "stream",
     "text": [
      "Dataset: pima\n",
      "    average accuracy: 0.735064935064935\n",
      "    average error: 0.6761572448656572\n",
      "Dataset: breast_cancer\n",
      "    average accuracy: 0.9768115942028986\n",
      "    average error: 0.15619720325214242\n",
      "Dataset: sonar\n",
      "    average accuracy: 0.7333333333333334\n",
      "    average error: 0.3548888756177835\n",
      "MPM running time: 0.7394593329999992\n"
     ]
    }
   ],
   "source": [
    "# run MPM for 10 times and calculate the average acc & err\n",
    "time_start = time.perf_counter()\n",
    "for name, data in zip(datasets.keys(), datasets.values()):\n",
    "    accs = []\n",
    "    errs = []\n",
    "    for i in range(10):\n",
    "        # print(\"Round\",i)\n",
    "        acc, err = MPM(data)\n",
    "        accs.append(acc)\n",
    "        errs.append(err)\n",
    "    average_acc = np.mean(accs)\n",
    "    average_err = np.mean(errs)\n",
    "    print(\"Dataset:\",name)\n",
    "    print(\"    average accuracy:\",average_acc)\n",
    "    print(\"    average error:\",average_err)\n",
    "time_end = time.perf_counter()\n",
    "run_time = time_end - time_start\n",
    "print(\"MPM running time:\", run_time)"
   ]
  },
  {
   "cell_type": "code",
   "execution_count": 8,
   "metadata": {},
   "outputs": [],
   "source": [
    "# run LDA, Logistic Regression, and SVM\n",
    "from sklearn.linear_model import LogisticRegression\n",
    "from sklearn.discriminant_analysis import LinearDiscriminantAnalysis\n",
    "from sklearn.svm import SVC\n",
    "models = {\n",
    "    \"Logistic Regression\": LogisticRegression(), # penalty, C\n",
    "    \"LDA\": LinearDiscriminantAnalysis(),\n",
    "    \"SVM\": SVC() # kernel, C\n",
    "}"
   ]
  },
  {
   "cell_type": "code",
   "execution_count": 9,
   "metadata": {},
   "outputs": [
    {
     "name": "stdout",
     "output_type": "stream",
     "text": [
      "Logistic Regression\n",
      "    Dataset: pima\n",
      "        average accuracy: 0.7779220779220779\n",
      "    Dataset: breast_cancer\n",
      "        average accuracy: 0.9753623188405797\n",
      "    Dataset: sonar\n",
      "        average accuracy: 0.7904761904761903\n",
      "    Running time: 1.1015612920000013\n",
      "LDA\n",
      "    Dataset: pima\n",
      "        average accuracy: 0.7428571428571428\n",
      "    Dataset: breast_cancer\n",
      "        average accuracy: 0.9536231884057971\n",
      "    Dataset: sonar\n",
      "        average accuracy: 0.7142857142857142\n",
      "    Running time: 0.35569416600000103\n",
      "SVM\n",
      "    Dataset: pima\n",
      "        average accuracy: 0.7714285714285716\n",
      "    Dataset: breast_cancer\n",
      "        average accuracy: 0.9782608695652174\n",
      "    Dataset: sonar\n",
      "        average accuracy: 0.8142857142857143\n",
      "    Running time: 0.6479802919999997\n"
     ]
    }
   ],
   "source": [
    "for model_name, model in models.items():\n",
    "    print(model_name)\n",
    "    time_start = time.perf_counter()\n",
    "    for name, data in zip(datasets.keys(), datasets.values()):\n",
    "        accs = []\n",
    "        errs = []\n",
    "        n = data.shape[1] # number of columns\n",
    "        y = data.iloc[:,-1] # define y\n",
    "        X = data.iloc[:,0:n-1] # define X\n",
    "        for i in range(10):\n",
    "            # print(\"Round\",i)\n",
    "            X_train, X_test, y_train, y_test = train_test_split(X, y, test_size=0.1, stratify=y)\n",
    "            model.fit(X_train, y_train)\n",
    "            y_pred = model.predict(X_test)\n",
    "            acc = sum(y_test == y_pred)/len(y_test)\n",
    "            accs.append(acc)\n",
    "        average_acc = np.mean(accs)\n",
    "        print(\"    Dataset:\",name)\n",
    "        print(\"        average accuracy:\",average_acc)\n",
    "    time_end = time.perf_counter()\n",
    "    run_time = time_end - time_start\n",
    "    print(\"    Running time:\", run_time)"
   ]
  },
  {
   "attachments": {},
   "cell_type": "markdown",
   "metadata": {},
   "source": [
    "### Problem4"
   ]
  },
  {
   "cell_type": "code",
   "execution_count": 10,
   "metadata": {},
   "outputs": [],
   "source": [
    "# Define the parameters\n",
    "mu_1 = np.array([0,0])\n",
    "mu_2 = np.array([4,2])\n",
    "Sigma_1 = np.array([[4,-1],[-1,1]])\n",
    "Sigma_2 = np.array([[1,1],[1,2]])\n",
    "dim = 2"
   ]
  },
  {
   "attachments": {},
   "cell_type": "markdown",
   "metadata": {},
   "source": [
    "First, let's calculate $\\kappa$ using the same method above."
   ]
  },
  {
   "cell_type": "code",
   "execution_count": 11,
   "metadata": {},
   "outputs": [
    {
     "name": "stdout",
     "output_type": "stream",
     "text": [
      "Optimal Kappa: 1.512154700499445\n"
     ]
    }
   ],
   "source": [
    "# Define the variables\n",
    "w = cp.Variable(dim)\n",
    "\n",
    "# Define the objective function\n",
    "## 计算协方差阵的1/2\n",
    "evalue_1, evector_1 = np.linalg.eig(Sigma_1)\n",
    "half_Sigma_1 = evector_1 @ np.diag(np.sqrt(evalue_1)) @ evector_1.T\n",
    "evalue_2, evector_2 = np.linalg.eig(Sigma_2)\n",
    "half_Sigma_2 = evector_2 @ np.diag(np.sqrt(evalue_2)) @ evector_2.T\n",
    "## 送入目标函数\n",
    "goal = cp.norm(half_Sigma_1 @w,2)+cp.norm(half_Sigma_2@w,2)\n",
    "\n",
    "# Define the constraint\n",
    "soc_constraints = [w @ (mu_2-mu_1) == 1]\n",
    "\n",
    "# Define the problem\n",
    "prob = cp.Problem(cp.Minimize(goal),soc_constraints)\n",
    "\n",
    "# Solve the problem\n",
    "prob.solve()\n",
    "# Print the result\n",
    "w_opt = w.value\n",
    "k_opt = 1/(np.sqrt(w_opt @ Sigma_1 @ w_opt.T)+np.sqrt(w_opt @ Sigma_2 @ w_opt.T))\n",
    "print(\"Optimal Kappa:\",k_opt)"
   ]
  },
  {
   "attachments": {},
   "cell_type": "markdown",
   "metadata": {},
   "source": [
    "Then let's draw ellipsoids with different $\\kappa$ to find the smallest one that makes 2 ellipsoinds intersect."
   ]
  },
  {
   "cell_type": "code",
   "execution_count": 70,
   "metadata": {},
   "outputs": [
    {
     "data": {
      "image/png": "[encoded data removed]",
      "text/plain": [
       "<Figure size 640x480 with 1 Axes>"
      ]
     },
     "metadata": {},
     "output_type": "display_data"
    }
   ],
   "source": [
    "import matplotlib.pyplot as plt\n",
    "\n",
    "mu_mean = (mu_1 + mu_2) / 2\n",
    "plt.xlim(mu_mean[0] - 6, mu_mean[0] + 6)\n",
    "plt.ylim(mu_mean[1] - 3, mu_mean[1] + 4)\n",
    "plt.xlabel(\"x\")\n",
    "plt.ylabel(\"y\")\n",
    "\n",
    "def draw(k, flag):\n",
    "    mu = mu_1\n",
    "    Sigma = Sigma_1\n",
    "    if flag == 2:\n",
    "        mu = mu_2\n",
    "        Sigma = Sigma_2\n",
    "\n",
    "    ## 计算协方差阵的1/2\n",
    "    eigenvalues, eigenvectors = np.linalg.eig(Sigma)\n",
    "    half_Sigma = eigenvectors @ np.diag(np.sqrt(eigenvalues)) @ eigenvectors.T\n",
    "    # max_eigenvalue_index = np.argmax(eigenvalues)\n",
    "    # max_eigenvector = eigenvectors[:, max_eigenvalue_index]\n",
    "    # lambda_1 = eigenvalues[np.argmax(eigenvalues)]\n",
    "    # lambda_2 = eigenvalues[np.argmin(eigenvalues)]\n",
    "    # angle = np.rad2deg(np.arctan2(max_eigenvector[1], max_eigenvector[0]))\n",
    "    # cos = np.cos(np.deg2rad(angle))\n",
    "    # sin = np.sin(np.deg2rad(angle))\n",
    "\n",
    "    u = np.linspace(0, 2 * np.pi, 100)\n",
    "    # x_0 = mu[0] + np.sqrt(lambda_1) * k * np.cos(u)\n",
    "    # y_0 = mu[1] + np.sqrt(lambda_2) * k * np.sin(u)\n",
    "    # x = x_0 * cos - y_0 * sin\n",
    "    # y = x_0 * sin + y_0 * cos\n",
    "    x = []\n",
    "    y = []\n",
    "    for i in range(100):\n",
    "        cord = np.array([k * np.cos(u[i]), k * np.sin(u[i])])\n",
    "        cord = mu + half_Sigma @ cord\n",
    "        x.append(cord[0])\n",
    "        y.append(cord[1])\n",
    "    plt.plot(x, y, color='red', linewidth=0.7,label=f'κ = {k}')\n",
    "    if flag == 2:\n",
    "        plt.text(x[0], y[20], f'κ = {k}', ha='right', va='bottom',fontsize=8)\n",
    "    else:\n",
    "        plt.text(x[28], y[28], f'κ = {k}', ha='right', va='bottom',fontsize=8)\n",
    "\n",
    "k_values = [0.5,1,1.3,1.5]\n",
    "for k in k_values:\n",
    "    draw(k, 1)\n",
    "    draw(k, 2)\n",
    "plt.show()"
   ]
  }
 ],
 "metadata": {
  "kernelspec": {
   "display_name": "base",
   "language": "python",
   "name": "python3"
  },
  "language_info": {
   "codemirror_mode": {
    "name": "ipython",
    "version": 3
   },
   "file_extension": ".py",
   "mimetype": "text/x-python",
   "name": "python",
   "nbconvert_exporter": "python",
   "pygments_lexer": "ipython3",
   "version": "3.9.7"
  },
  "orig_nbformat": 4
 },
 "nbformat": 4,
 "nbformat_minor": 2
}
